{
 "cells": [
  {
   "cell_type": "markdown",
   "metadata": {},
   "source": [
    "# This project predicts/analyses the enrollment count of a fictitious University"
   ]
  },
  {
   "cell_type": "markdown",
   "metadata": {},
   "source": [
    "# Import Relevant Libraries"
   ]
  },
  {
   "cell_type": "code",
   "execution_count": 34,
   "metadata": {
    "scrolled": false
   },
   "outputs": [],
   "source": [
    "import warnings\n",
    "import pandas as pd\n",
    "import numpy as np\n",
    "import matplotlib.pyplot as plt\n",
    "import seaborn as sns\n",
    "from sklearn.linear_model import LinearRegression\n",
    "from sklearn.model_selection import train_test_split\n",
    "from sklearn.metrics import mean_squared_error as mae\n",
    "from sklearn.metrics import r2_score\n",
    "from sklearn.ensemble import RandomForestRegressor\n",
    "import time\n",
    "warnings.simplefilter(action=\"ignore\", category=FutureWarning)"
   ]
  },
  {
   "cell_type": "markdown",
   "metadata": {},
   "source": [
    "\n",
    "# Load the Data"
   ]
  },
  {
   "cell_type": "code",
   "execution_count": 2,
   "metadata": {
    "scrolled": false
   },
   "outputs": [
    {
     "data": {
      "text/html": [
       "<div>\n",
       "<style scoped>\n",
       "    .dataframe tbody tr th:only-of-type {\n",
       "        vertical-align: middle;\n",
       "    }\n",
       "\n",
       "    .dataframe tbody tr th {\n",
       "        vertical-align: top;\n",
       "    }\n",
       "\n",
       "    .dataframe thead th {\n",
       "        text-align: right;\n",
       "    }\n",
       "</style>\n",
       "<table border=\"1\" class=\"dataframe\">\n",
       "  <thead>\n",
       "    <tr style=\"text-align: right;\">\n",
       "      <th></th>\n",
       "      <th>course_id</th>\n",
       "      <th>course_type</th>\n",
       "      <th>year</th>\n",
       "      <th>enrollment_count</th>\n",
       "      <th>pre_score</th>\n",
       "      <th>post_score</th>\n",
       "      <th>pre_requirement</th>\n",
       "      <th>department</th>\n",
       "    </tr>\n",
       "  </thead>\n",
       "  <tbody>\n",
       "    <tr>\n",
       "      <th>1065</th>\n",
       "      <td>1066</td>\n",
       "      <td>online</td>\n",
       "      <td>2016</td>\n",
       "      <td>251</td>\n",
       "      <td>36.11</td>\n",
       "      <td>67.0</td>\n",
       "      <td>NaN</td>\n",
       "      <td>Science</td>\n",
       "    </tr>\n",
       "    <tr>\n",
       "      <th>624</th>\n",
       "      <td>625</td>\n",
       "      <td>online</td>\n",
       "      <td>2015</td>\n",
       "      <td>251</td>\n",
       "      <td>88.17</td>\n",
       "      <td>84.0</td>\n",
       "      <td>Beginner</td>\n",
       "      <td>Technology</td>\n",
       "    </tr>\n",
       "    <tr>\n",
       "      <th>1333</th>\n",
       "      <td>1334</td>\n",
       "      <td>online</td>\n",
       "      <td>2018</td>\n",
       "      <td>246</td>\n",
       "      <td>42.63</td>\n",
       "      <td>76.0</td>\n",
       "      <td>Beginner</td>\n",
       "      <td>Math</td>\n",
       "    </tr>\n",
       "    <tr>\n",
       "      <th>1360</th>\n",
       "      <td>1361</td>\n",
       "      <td>online</td>\n",
       "      <td>2015</td>\n",
       "      <td>261</td>\n",
       "      <td>12.8</td>\n",
       "      <td>72.0</td>\n",
       "      <td>None</td>\n",
       "      <td>Technology</td>\n",
       "    </tr>\n",
       "    <tr>\n",
       "      <th>7</th>\n",
       "      <td>8</td>\n",
       "      <td>online</td>\n",
       "      <td>2018</td>\n",
       "      <td>261</td>\n",
       "      <td>76.48</td>\n",
       "      <td>88.0</td>\n",
       "      <td>None</td>\n",
       "      <td>Technology</td>\n",
       "    </tr>\n",
       "    <tr>\n",
       "      <th>1182</th>\n",
       "      <td>1183</td>\n",
       "      <td>classroom</td>\n",
       "      <td>2018</td>\n",
       "      <td>155</td>\n",
       "      <td>68.22</td>\n",
       "      <td>85.0</td>\n",
       "      <td>Intermediate</td>\n",
       "      <td>Science</td>\n",
       "    </tr>\n",
       "    <tr>\n",
       "      <th>1835</th>\n",
       "      <td>1836</td>\n",
       "      <td>online</td>\n",
       "      <td>2022</td>\n",
       "      <td>245</td>\n",
       "      <td>75.93</td>\n",
       "      <td>76.0</td>\n",
       "      <td>Beginner</td>\n",
       "      <td>Math</td>\n",
       "    </tr>\n",
       "    <tr>\n",
       "      <th>1410</th>\n",
       "      <td>1411</td>\n",
       "      <td>online</td>\n",
       "      <td>2014</td>\n",
       "      <td>256</td>\n",
       "      <td>94.86</td>\n",
       "      <td>98.0</td>\n",
       "      <td>None</td>\n",
       "      <td>Math</td>\n",
       "    </tr>\n",
       "    <tr>\n",
       "      <th>280</th>\n",
       "      <td>281</td>\n",
       "      <td>online</td>\n",
       "      <td>2020</td>\n",
       "      <td>261</td>\n",
       "      <td>17.48</td>\n",
       "      <td>76.0</td>\n",
       "      <td>None</td>\n",
       "      <td>Technology</td>\n",
       "    </tr>\n",
       "    <tr>\n",
       "      <th>51</th>\n",
       "      <td>52</td>\n",
       "      <td>online</td>\n",
       "      <td>2019</td>\n",
       "      <td>261</td>\n",
       "      <td>7.74</td>\n",
       "      <td>61.0</td>\n",
       "      <td>None</td>\n",
       "      <td>Technology</td>\n",
       "    </tr>\n",
       "  </tbody>\n",
       "</table>\n",
       "</div>"
      ],
      "text/plain": [
       "      course_id course_type  year  enrollment_count pre_score  post_score  \\\n",
       "1065       1066      online  2016               251     36.11        67.0   \n",
       "624         625      online  2015               251     88.17        84.0   \n",
       "1333       1334      online  2018               246     42.63        76.0   \n",
       "1360       1361      online  2015               261      12.8        72.0   \n",
       "7             8      online  2018               261     76.48        88.0   \n",
       "1182       1183   classroom  2018               155     68.22        85.0   \n",
       "1835       1836      online  2022               245     75.93        76.0   \n",
       "1410       1411      online  2014               256     94.86        98.0   \n",
       "280         281      online  2020               261     17.48        76.0   \n",
       "51           52      online  2019               261      7.74        61.0   \n",
       "\n",
       "     pre_requirement  department  \n",
       "1065             NaN     Science  \n",
       "624         Beginner  Technology  \n",
       "1333        Beginner        Math  \n",
       "1360            None  Technology  \n",
       "7               None  Technology  \n",
       "1182    Intermediate     Science  \n",
       "1835        Beginner        Math  \n",
       "1410            None        Math  \n",
       "280             None  Technology  \n",
       "51              None  Technology  "
      ]
     },
     "execution_count": 2,
     "metadata": {},
     "output_type": "execute_result"
    }
   ],
   "source": [
    "df=pd.read_csv('university_enrollment_2306.csv')\n",
    "df.sample(10)"
   ]
  },
  {
   "cell_type": "markdown",
   "metadata": {},
   "source": [
    "# Perform Data Validation"
   ]
  },
  {
   "cell_type": "code",
   "execution_count": 3,
   "metadata": {
    "scrolled": false
   },
   "outputs": [
    {
     "name": "stdout",
     "output_type": "stream",
     "text": [
      "<class 'pandas.core.frame.DataFrame'>\n",
      "RangeIndex: 1850 entries, 0 to 1849\n",
      "Data columns (total 8 columns):\n",
      " #   Column            Non-Null Count  Dtype  \n",
      "---  ------            --------------  -----  \n",
      " 0   course_id         1850 non-null   int64  \n",
      " 1   course_type       1850 non-null   object \n",
      " 2   year              1850 non-null   int64  \n",
      " 3   enrollment_count  1850 non-null   int64  \n",
      " 4   pre_score         1850 non-null   object \n",
      " 5   post_score        1665 non-null   float64\n",
      " 6   pre_requirement   1761 non-null   object \n",
      " 7   department        1850 non-null   object \n",
      "dtypes: float64(1), int64(3), object(4)\n",
      "memory usage: 115.8+ KB\n"
     ]
    }
   ],
   "source": [
    "df.info()"
   ]
  },
  {
   "cell_type": "code",
   "execution_count": 4,
   "metadata": {
    "scrolled": true
   },
   "outputs": [
    {
     "name": "stdout",
     "output_type": "stream",
     "text": [
      "The are 185 null values  in the post_score column\n",
      "The are 89 null values in the pre_requirement column\n"
     ]
    }
   ],
   "source": [
    "# Check for null Values\n",
    "post_score_na_count=df['post_score'].isna().sum()\n",
    "pre_requirement_na_count=df['pre_requirement'].isna().sum()\n",
    "print(f'The are {post_score_na_count} null values  in the post_score column')\n",
    "print(f'The are {pre_requirement_na_count} null values in the pre_requirement column')"
   ]
  },
  {
   "cell_type": "code",
   "execution_count": 5,
   "metadata": {},
   "outputs": [],
   "source": [
    "# Replace null Values with appropriate values\n",
    "df['post_score']=df.post_score.fillna(0)\n",
    "df['pre_requirement']=df.pre_requirement.fillna('None')"
   ]
  },
  {
   "cell_type": "code",
   "execution_count": 6,
   "metadata": {},
   "outputs": [
    {
     "name": "stdout",
     "output_type": "stream",
     "text": [
      "<class 'pandas.core.frame.DataFrame'>\n",
      "RangeIndex: 1850 entries, 0 to 1849\n",
      "Data columns (total 8 columns):\n",
      " #   Column            Non-Null Count  Dtype  \n",
      "---  ------            --------------  -----  \n",
      " 0   course_id         1850 non-null   int64  \n",
      " 1   course_type       1850 non-null   object \n",
      " 2   year              1850 non-null   int64  \n",
      " 3   enrollment_count  1850 non-null   int64  \n",
      " 4   pre_score         1850 non-null   object \n",
      " 5   post_score        1850 non-null   float64\n",
      " 6   pre_requirement   1850 non-null   object \n",
      " 7   department        1850 non-null   object \n",
      "dtypes: float64(1), int64(3), object(4)\n",
      "memory usage: 115.8+ KB\n"
     ]
    }
   ],
   "source": [
    "df.info()"
   ]
  },
  {
   "cell_type": "code",
   "execution_count": 7,
   "metadata": {
    "scrolled": true
   },
   "outputs": [
    {
     "data": {
      "text/plain": [
       "course_id           1850\n",
       "course_type            2\n",
       "year                  12\n",
       "enrollment_count      45\n",
       "pre_score           1594\n",
       "post_score            54\n",
       "pre_requirement        3\n",
       "department             5\n",
       "dtype: int64"
      ]
     },
     "execution_count": 7,
     "metadata": {},
     "output_type": "execute_result"
    }
   ],
   "source": [
    "df.nunique()"
   ]
  },
  {
   "cell_type": "code",
   "execution_count": 8,
   "metadata": {},
   "outputs": [],
   "source": [
    "# Replace Mathemamatics with with since they mean same thing\n",
    "df['department']=df['department'].replace({'Math':'Mathematics'})"
   ]
  },
  {
   "cell_type": "code",
   "execution_count": 9,
   "metadata": {},
   "outputs": [],
   "source": [
    "# From inpection 'pre_score column has \"- \" in column'\n",
    "#replace '_' with 0\n",
    "df.loc[df['pre_score'] == '-', 'pre_score'] = 0"
   ]
  },
  {
   "cell_type": "code",
   "execution_count": 10,
   "metadata": {
    "scrolled": true
   },
   "outputs": [
    {
     "data": {
      "text/html": [
       "<div>\n",
       "<style scoped>\n",
       "    .dataframe tbody tr th:only-of-type {\n",
       "        vertical-align: middle;\n",
       "    }\n",
       "\n",
       "    .dataframe tbody tr th {\n",
       "        vertical-align: top;\n",
       "    }\n",
       "\n",
       "    .dataframe thead th {\n",
       "        text-align: right;\n",
       "    }\n",
       "</style>\n",
       "<table border=\"1\" class=\"dataframe\">\n",
       "  <thead>\n",
       "    <tr style=\"text-align: right;\">\n",
       "      <th></th>\n",
       "      <th>course_id</th>\n",
       "      <th>course_type</th>\n",
       "      <th>year</th>\n",
       "      <th>enrollment_count</th>\n",
       "      <th>pre_score</th>\n",
       "      <th>post_score</th>\n",
       "      <th>pre_requirement</th>\n",
       "      <th>department</th>\n",
       "    </tr>\n",
       "  </thead>\n",
       "  <tbody>\n",
       "    <tr>\n",
       "      <th>1344</th>\n",
       "      <td>1345</td>\n",
       "      <td>online</td>\n",
       "      <td>2012</td>\n",
       "      <td>257</td>\n",
       "      <td>94.9</td>\n",
       "      <td>80.0</td>\n",
       "      <td>None</td>\n",
       "      <td>Mathematics</td>\n",
       "    </tr>\n",
       "    <tr>\n",
       "      <th>832</th>\n",
       "      <td>833</td>\n",
       "      <td>online</td>\n",
       "      <td>2020</td>\n",
       "      <td>261</td>\n",
       "      <td>65.34</td>\n",
       "      <td>72.0</td>\n",
       "      <td>None</td>\n",
       "      <td>Technology</td>\n",
       "    </tr>\n",
       "    <tr>\n",
       "      <th>291</th>\n",
       "      <td>292</td>\n",
       "      <td>online</td>\n",
       "      <td>2021</td>\n",
       "      <td>241</td>\n",
       "      <td>51.62</td>\n",
       "      <td>75.0</td>\n",
       "      <td>Beginner</td>\n",
       "      <td>Science</td>\n",
       "    </tr>\n",
       "    <tr>\n",
       "      <th>46</th>\n",
       "      <td>47</td>\n",
       "      <td>online</td>\n",
       "      <td>2020</td>\n",
       "      <td>251</td>\n",
       "      <td>38.22</td>\n",
       "      <td>63.0</td>\n",
       "      <td>Beginner</td>\n",
       "      <td>Technology</td>\n",
       "    </tr>\n",
       "    <tr>\n",
       "      <th>517</th>\n",
       "      <td>518</td>\n",
       "      <td>online</td>\n",
       "      <td>2013</td>\n",
       "      <td>255</td>\n",
       "      <td>56.13</td>\n",
       "      <td>85.0</td>\n",
       "      <td>None</td>\n",
       "      <td>Mathematics</td>\n",
       "    </tr>\n",
       "    <tr>\n",
       "      <th>1059</th>\n",
       "      <td>1060</td>\n",
       "      <td>classroom</td>\n",
       "      <td>2012</td>\n",
       "      <td>175</td>\n",
       "      <td>58.31</td>\n",
       "      <td>76.0</td>\n",
       "      <td>None</td>\n",
       "      <td>Science</td>\n",
       "    </tr>\n",
       "    <tr>\n",
       "      <th>1060</th>\n",
       "      <td>1061</td>\n",
       "      <td>online</td>\n",
       "      <td>2018</td>\n",
       "      <td>256</td>\n",
       "      <td>10.7</td>\n",
       "      <td>79.0</td>\n",
       "      <td>None</td>\n",
       "      <td>Mathematics</td>\n",
       "    </tr>\n",
       "    <tr>\n",
       "      <th>1334</th>\n",
       "      <td>1335</td>\n",
       "      <td>online</td>\n",
       "      <td>2015</td>\n",
       "      <td>256</td>\n",
       "      <td>16.38</td>\n",
       "      <td>57.0</td>\n",
       "      <td>Beginner</td>\n",
       "      <td>Engineering</td>\n",
       "    </tr>\n",
       "    <tr>\n",
       "      <th>423</th>\n",
       "      <td>424</td>\n",
       "      <td>online</td>\n",
       "      <td>2021</td>\n",
       "      <td>256</td>\n",
       "      <td>28.66</td>\n",
       "      <td>68.0</td>\n",
       "      <td>None</td>\n",
       "      <td>Mathematics</td>\n",
       "    </tr>\n",
       "    <tr>\n",
       "      <th>1201</th>\n",
       "      <td>1202</td>\n",
       "      <td>classroom</td>\n",
       "      <td>2014</td>\n",
       "      <td>170</td>\n",
       "      <td>45.14</td>\n",
       "      <td>80.0</td>\n",
       "      <td>Intermediate</td>\n",
       "      <td>Engineering</td>\n",
       "    </tr>\n",
       "  </tbody>\n",
       "</table>\n",
       "</div>"
      ],
      "text/plain": [
       "      course_id course_type  year  enrollment_count pre_score  post_score  \\\n",
       "1344       1345      online  2012               257      94.9        80.0   \n",
       "832         833      online  2020               261     65.34        72.0   \n",
       "291         292      online  2021               241     51.62        75.0   \n",
       "46           47      online  2020               251     38.22        63.0   \n",
       "517         518      online  2013               255     56.13        85.0   \n",
       "1059       1060   classroom  2012               175     58.31        76.0   \n",
       "1060       1061      online  2018               256      10.7        79.0   \n",
       "1334       1335      online  2015               256     16.38        57.0   \n",
       "423         424      online  2021               256     28.66        68.0   \n",
       "1201       1202   classroom  2014               170     45.14        80.0   \n",
       "\n",
       "     pre_requirement   department  \n",
       "1344            None  Mathematics  \n",
       "832             None   Technology  \n",
       "291         Beginner      Science  \n",
       "46          Beginner   Technology  \n",
       "517             None  Mathematics  \n",
       "1059            None      Science  \n",
       "1060            None  Mathematics  \n",
       "1334        Beginner  Engineering  \n",
       "423             None  Mathematics  \n",
       "1201    Intermediate  Engineering  "
      ]
     },
     "execution_count": 10,
     "metadata": {},
     "output_type": "execute_result"
    }
   ],
   "source": [
    "df.sample(10)"
   ]
  },
  {
   "cell_type": "markdown",
   "metadata": {},
   "source": [
    "# Perform Data Exploratory Analysis"
   ]
  },
  {
   "cell_type": "code",
   "execution_count": 11,
   "metadata": {
    "scrolled": true
   },
   "outputs": [
    {
     "data": {
      "image/png": "[encoded data removed]",
      "text/plain": [
       "<Figure size 446.75x360 with 1 Axes>"
      ]
     },
     "metadata": {
      "needs_background": "light"
     },
     "output_type": "display_data"
    }
   ],
   "source": [
    "# Distribution of enrollment_count'\n",
    "sns.displot(x='enrollment_count', data=df, hue='course_type', bins=20)\n",
    "plt.axvline(df.enrollment_count.mean(), color='r', linestyle='dashed', linewidth=1)\n",
    "plt.axvline(df.enrollment_count.median(), color='b', linestyle='dashed', linewidth=1)\n",
    "plt.title('Distribution of enrollment');"
   ]
  },
  {
   "cell_type": "markdown",
   "metadata": {},
   "source": [
    "\n",
    "Analyzing the enrollment count, our graphical representation reveals an intriguing bimodal distribution. Notably, the peak enrollment numbers are attributed to online courses, suggesting a robust digital presence. However, the university's performance in classroom-based enrollments is less promising, with figures consistently below 200.\n",
    "\n",
    "To elaborate further, classroom enrollments are registering below the 200 mark, while online enrollments hover slightly above 250. This discrepancy underscores the need for focused efforts to bridge this enrollment gap effectively.\n"
   ]
  },
  {
   "cell_type": "code",
   "execution_count": 12,
   "metadata": {
    "scrolled": true
   },
   "outputs": [
    {
     "name": "stdout",
     "output_type": "stream",
     "text": [
      " Average enrollment count for Online Courses:  253\n",
      " Average enrollment count for Classroom Courses:  170\n"
     ]
    },
    {
     "data": {
      "image/png": "[encoded data removed]",
      "text/plain": [
       "<Figure size 432x288 with 1 Axes>"
      ]
     },
     "metadata": {
      "needs_background": "light"
     },
     "output_type": "display_data"
    }
   ],
   "source": [
    "#Visualize with boxplots\n",
    "sns.boxplot(x='course_type', y='enrollment_count', data=df);\n",
    "plt.title('Enrollment Count by Course Type')\n",
    "\n",
    "# Print the mean enrollment for each course type\n",
    "classroom = df[df['course_type'] == 'classroom']['enrollment_count'].mean()\n",
    "online = df[df['course_type'] == 'online']['enrollment_count'].mean()\n",
    "print(f\" Average enrollment count for Online Courses: {online: .0f}\")\n",
    "print(f\" Average enrollment count for Classroom Courses: {classroom: .0f}\")\n"
   ]
  },
  {
   "cell_type": "code",
   "execution_count": 13,
   "metadata": {
    "scrolled": true
   },
   "outputs": [
    {
     "data": {
      "image/png": "[encoded data removed]",
      "text/plain": [
       "<Figure size 432x288 with 1 Axes>"
      ]
     },
     "metadata": {
      "needs_background": "light"
     },
     "output_type": "display_data"
    }
   ],
   "source": [
    "# Verify which course type has observation\n",
    "ax=sns.countplot(data=df, x='course_type')\n",
    "plt.title('Distribution of  Course Type')\n",
    "plt.ylabel('Number of Courses')\n",
    "\n",
    "total = len(df['course_type'])\n",
    "for p in ax.patches:\n",
    "        percentage = '{:.1f}%'.format(100 * p.get_height()/total)\n",
    "        x = p.get_x() + p.get_width()-0.5\n",
    "        y = p.get_y() + p.get_height()\n",
    "        ax.annotate(percentage, (x, y))\n",
    "\n",
    "plt.show();"
   ]
  },
  {
   "cell_type": "markdown",
   "metadata": {},
   "source": [
    "as shown in the graph, the online courses makes up about 74% of the total courses, leaving about 26% for classroom courses. Clearly there is an imbalance in the representation of the courses. This may affect the result of the model and an inaccurate conclusion may result. For future analyis , the observation should be balanced so obtain an accurate model. For our purpose the data is used  'as-is'.This observation may be due to the fact that the number of enrollment online classes are not retricted by a physical classroom size thus the univeristy created moreonline classes."
   ]
  },
  {
   "cell_type": "markdown",
   "metadata": {},
   "source": [
    "## Predictive Modeling"
   ]
  },
  {
   "cell_type": "markdown",
   "metadata": {},
   "source": [
    "### Linear Regression"
   ]
  },
  {
   "cell_type": "code",
   "execution_count": 14,
   "metadata": {
    "scrolled": true
   },
   "outputs": [
    {
     "data": {
      "text/html": [
       "<div>\n",
       "<style scoped>\n",
       "    .dataframe tbody tr th:only-of-type {\n",
       "        vertical-align: middle;\n",
       "    }\n",
       "\n",
       "    .dataframe tbody tr th {\n",
       "        vertical-align: top;\n",
       "    }\n",
       "\n",
       "    .dataframe thead th {\n",
       "        text-align: right;\n",
       "    }\n",
       "</style>\n",
       "<table border=\"1\" class=\"dataframe\">\n",
       "  <thead>\n",
       "    <tr style=\"text-align: right;\">\n",
       "      <th></th>\n",
       "      <th>course_id</th>\n",
       "      <th>course_type</th>\n",
       "      <th>year</th>\n",
       "      <th>enrollment_count</th>\n",
       "      <th>pre_score</th>\n",
       "      <th>post_score</th>\n",
       "      <th>pre_requirement</th>\n",
       "      <th>department</th>\n",
       "    </tr>\n",
       "  </thead>\n",
       "  <tbody>\n",
       "    <tr>\n",
       "      <th>0</th>\n",
       "      <td>1</td>\n",
       "      <td>classroom</td>\n",
       "      <td>2018</td>\n",
       "      <td>165</td>\n",
       "      <td>28.14</td>\n",
       "      <td>73.0</td>\n",
       "      <td>Beginner</td>\n",
       "      <td>Science</td>\n",
       "    </tr>\n",
       "    <tr>\n",
       "      <th>1</th>\n",
       "      <td>2</td>\n",
       "      <td>classroom</td>\n",
       "      <td>2020</td>\n",
       "      <td>175</td>\n",
       "      <td>79.68</td>\n",
       "      <td>86.0</td>\n",
       "      <td>None</td>\n",
       "      <td>Science</td>\n",
       "    </tr>\n",
       "    <tr>\n",
       "      <th>2</th>\n",
       "      <td>3</td>\n",
       "      <td>online</td>\n",
       "      <td>2016</td>\n",
       "      <td>257</td>\n",
       "      <td>57.24</td>\n",
       "      <td>80.0</td>\n",
       "      <td>None</td>\n",
       "      <td>Mathematics</td>\n",
       "    </tr>\n",
       "    <tr>\n",
       "      <th>3</th>\n",
       "      <td>4</td>\n",
       "      <td>online</td>\n",
       "      <td>2013</td>\n",
       "      <td>251</td>\n",
       "      <td>97.67</td>\n",
       "      <td>75.0</td>\n",
       "      <td>Beginner</td>\n",
       "      <td>Technology</td>\n",
       "    </tr>\n",
       "    <tr>\n",
       "      <th>4</th>\n",
       "      <td>5</td>\n",
       "      <td>classroom</td>\n",
       "      <td>2019</td>\n",
       "      <td>165</td>\n",
       "      <td>39.75</td>\n",
       "      <td>76.0</td>\n",
       "      <td>Beginner</td>\n",
       "      <td>Science</td>\n",
       "    </tr>\n",
       "  </tbody>\n",
       "</table>\n",
       "</div>"
      ],
      "text/plain": [
       "   course_id course_type  year  enrollment_count pre_score  post_score  \\\n",
       "0          1   classroom  2018               165     28.14        73.0   \n",
       "1          2   classroom  2020               175     79.68        86.0   \n",
       "2          3      online  2016               257     57.24        80.0   \n",
       "3          4      online  2013               251     97.67        75.0   \n",
       "4          5   classroom  2019               165     39.75        76.0   \n",
       "\n",
       "  pre_requirement   department  \n",
       "0        Beginner      Science  \n",
       "1            None      Science  \n",
       "2            None  Mathematics  \n",
       "3        Beginner   Technology  \n",
       "4        Beginner      Science  "
      ]
     },
     "execution_count": 14,
     "metadata": {},
     "output_type": "execute_result"
    }
   ],
   "source": [
    "df.head()"
   ]
  },
  {
   "cell_type": "code",
   "execution_count": 15,
   "metadata": {},
   "outputs": [],
   "source": [
    "#Encode Categorical features\n",
    "df_encoded = pd.get_dummies(df, columns=['course_type', 'pre_requirement', 'department'])"
   ]
  },
  {
   "cell_type": "code",
   "execution_count": 16,
   "metadata": {},
   "outputs": [],
   "source": [
    "# start time for the model exeution\n",
    "reg_start_time=time.time()"
   ]
  },
  {
   "cell_type": "code",
   "execution_count": 17,
   "metadata": {},
   "outputs": [],
   "source": [
    "# Separate features (X) and the target variable (y)\n",
    "X=df_encoded.drop(columns=['enrollment_count','course_id'])\n",
    "y=df_encoded['enrollment_count']"
   ]
  },
  {
   "cell_type": "code",
   "execution_count": 18,
   "metadata": {},
   "outputs": [],
   "source": [
    "# Split the data into training and testing sets\n",
    "X_train, X_test, y_train, y_test = train_test_split(X, y, test_size=0.2, random_state=42)"
   ]
  },
  {
   "cell_type": "code",
   "execution_count": 19,
   "metadata": {},
   "outputs": [],
   "source": [
    "#instantiate a linear regression object\n",
    "linear_model = LinearRegression()"
   ]
  },
  {
   "cell_type": "code",
   "execution_count": 20,
   "metadata": {
    "scrolled": true
   },
   "outputs": [
    {
     "data": {
      "text/plain": [
       "LinearRegression(copy_X=True, fit_intercept=True, n_jobs=None, normalize=False)"
      ]
     },
     "execution_count": 20,
     "metadata": {},
     "output_type": "execute_result"
    }
   ],
   "source": [
    "# Train the model\n",
    "linear_model.fit(X_train, y_train)"
   ]
  },
  {
   "cell_type": "code",
   "execution_count": 21,
   "metadata": {
    "scrolled": true
   },
   "outputs": [
    {
     "data": {
      "text/plain": [
       "array([240.97459333, 180.06724936, 250.96698407, 260.96869137,\n",
       "       256.06810636])"
      ]
     },
     "execution_count": 21,
     "metadata": {},
     "output_type": "execute_result"
    }
   ],
   "source": [
    "# Predict on the test set\n",
    "y_pred =linear_model.predict(X_test)\n",
    "y_pred[:5]"
   ]
  },
  {
   "cell_type": "code",
   "execution_count": 22,
   "metadata": {
    "scrolled": true
   },
   "outputs": [
    {
     "name": "stdout",
     "output_type": "stream",
     "text": [
      " Time elaspse in seconds for Linear regression model execution: 3.122400999069214\n",
      "Mean Absolute Error:  0.3149\n",
      "The R-squared:  0.9999\n"
     ]
    }
   ],
   "source": [
    "## Check Performance Parameter\n",
    "# stop time for model execution\n",
    "reg_stop_time=time.time()\n",
    "# get the time elapse\n",
    "reg_elapse_time=reg_stop_time-reg_start_time\n",
    "# print performance metrics\n",
    "print(f\" Time elaspse in seconds for Linear regression model execution: {reg_elapse_time}\")\n",
    "root_mean = np.sqrt(mae(y_test, y_pred))\n",
    "print(f'Mean Absolute Error: {root_mean : .4f}')\n",
    "r_squared = r2_score(y_test, y_pred)\n",
    "print(f'The R-squared: {r_squared: .4f}')"
   ]
  },
  {
   "cell_type": "code",
   "execution_count": 23,
   "metadata": {
    "scrolled": true
   },
   "outputs": [
    {
     "data": {
      "image/png": "[encoded data removed]",
      "text/plain": [
       "<Figure size 576x432 with 1 Axes>"
      ]
     },
     "metadata": {
      "needs_background": "light"
     },
     "output_type": "display_data"
    }
   ],
   "source": [
    "# Visualize the performance\n",
    "plt.figure(figsize=(8, 6))\n",
    "plt.scatter(y_test, y_pred, c='blue', label='Actual vs. Predicted', marker='o')\n",
    "plt.plot([min(y_test), max(y_test)], [min(y_test), max(y_test)], linestyle='--', color='orange', linewidth=2, label='Perfect Prediction')\n",
    "plt.xlabel('Actual Values')\n",
    "plt.ylabel('Predicted Values')\n",
    "plt.title('Actual vs. Predicted Values in Linear Regression Model')\n",
    "plt.legend()\n",
    "plt.grid(True)\n",
    "plt.show()"
   ]
  },
  {
   "cell_type": "markdown",
   "metadata": {},
   "source": [
    "### Random Forest Regressor Model"
   ]
  },
  {
   "cell_type": "code",
   "execution_count": 24,
   "metadata": {
    "scrolled": true
   },
   "outputs": [],
   "source": [
    "# start time for model execution\n",
    "forest_start_time=time.time()"
   ]
  },
  {
   "cell_type": "code",
   "execution_count": 25,
   "metadata": {},
   "outputs": [],
   "source": [
    "# Choose a more comparison model (e.g., Random Forest Regressor)\n",
    "model_Forest = RandomForestRegressor(n_estimators=100, random_state=42)"
   ]
  },
  {
   "cell_type": "code",
   "execution_count": 26,
   "metadata": {},
   "outputs": [
    {
     "data": {
      "text/plain": [
       "RandomForestRegressor(bootstrap=True, criterion='mse', max_depth=None,\n",
       "                      max_features='auto', max_leaf_nodes=None,\n",
       "                      min_impurity_decrease=0.0, min_impurity_split=None,\n",
       "                      min_samples_leaf=1, min_samples_split=2,\n",
       "                      min_weight_fraction_leaf=0.0, n_estimators=100,\n",
       "                      n_jobs=None, oob_score=False, random_state=42, verbose=0,\n",
       "                      warm_start=False)"
      ]
     },
     "execution_count": 26,
     "metadata": {},
     "output_type": "execute_result"
    }
   ],
   "source": [
    "# Train the model\n",
    "model_Forest.fit(X_train, y_train)\n"
   ]
  },
  {
   "cell_type": "code",
   "execution_count": 35,
   "metadata": {},
   "outputs": [
    {
     "name": "stderr",
     "output_type": "stream",
     "text": [
      "C:\\Users\\oladu\\Anaconda3\\lib\\site-packages\\sklearn\\ensemble\\base.py:158: DeprecationWarning: `np.int` is a deprecated alias for the builtin `int`. To silence this warning, use `int` by itself. Doing this will not modify any behavior and is safe. When replacing `np.int`, you may wish to use e.g. `np.int64` or `np.int32` to specify the precision. If you wish to review your current use, check the release note link for additional information.\n",
      "Deprecated in NumPy 1.20; for more details and guidance: https://numpy.org/devdocs/release/1.20.0-notes.html#deprecations\n",
      "  dtype=np.int)\n"
     ]
    }
   ],
   "source": [
    "# Predict on the test set\n",
    "y_pred_Forest = model_Forest.predict(X_test)"
   ]
  },
  {
   "cell_type": "code",
   "execution_count": 28,
   "metadata": {},
   "outputs": [],
   "source": [
    "# stop time for model execution\n",
    "forest_stop_time=time.time()"
   ]
  },
  {
   "cell_type": "code",
   "execution_count": 29,
   "metadata": {},
   "outputs": [],
   "source": [
    "# get the time elapse\n",
    "forest_elapse_time=forest_stop_time-forest_start_time"
   ]
  },
  {
   "cell_type": "code",
   "execution_count": 30,
   "metadata": {},
   "outputs": [
    {
     "name": "stdout",
     "output_type": "stream",
     "text": [
      " Time elaspse in seconds for Random Forest model execution: 0.7942550182342529\n",
      "Mean Absolute Error: 0.3543238555256964\n",
      "The R-squared:  0.9999\n"
     ]
    }
   ],
   "source": [
    "# print performance metrics\n",
    "print(f\" Time elaspse in seconds for Random Forest model execution: {forest_elapse_time}\")\n",
    "rmse_Forest = np.sqrt(mae(y_test, y_pred_Forest))\n",
    "print(f'Mean Absolute Error: {rmse_Forest}')\n",
    "r_squared_Forest = r2_score(y_test, y_pred_Forest)\n",
    "print(f'The R-squared: {r_squared_Forest: .4f}')"
   ]
  },
  {
   "cell_type": "code",
   "execution_count": 31,
   "metadata": {
    "scrolled": true
   },
   "outputs": [
    {
     "data": {
      "image/png": "[encoded data removed]",
      "text/plain": [
       "<Figure size 576x432 with 1 Axes>"
      ]
     },
     "metadata": {
      "needs_background": "light"
     },
     "output_type": "display_data"
    }
   ],
   "source": [
    "# Visualiza the performance of the model\n",
    "plt.figure(figsize=(8, 6))\n",
    "plt.scatter(y_test, y_pred_Forest, c='blue', label='Actual vs. Predicted', marker='o')\n",
    "plt.plot([min(y_test), max(y_test)], [min(y_test), max(y_test)], linestyle='--', color='orange', linewidth=2, label='Perfect Prediction')\n",
    "plt.xlabel('Actual Values')\n",
    "plt.ylabel('Predicted Values')\n",
    "plt.title('Actual vs. Predicted Values in Random Forest Model')\n",
    "plt.legend()\n",
    "plt.grid(True)\n",
    "plt.show()"
   ]
  },
  {
   "cell_type": "markdown",
   "metadata": {},
   "source": [
    "# Compare the Performance of the Two Models"
   ]
  },
  {
   "cell_type": "code",
   "execution_count": 32,
   "metadata": {
    "scrolled": true
   },
   "outputs": [
    {
     "data": {
      "text/plain": [
       "Text(0, 0.5, 'RMSE')"
      ]
     },
     "execution_count": 32,
     "metadata": {},
     "output_type": "execute_result"
    },
    {
     "data": {
      "image/png": "[encoded data removed]",
      "text/plain": [
       "<Figure size 864x360 with 2 Axes>"
      ]
     },
     "metadata": {
      "needs_background": "light"
     },
     "output_type": "display_data"
    }
   ],
   "source": [
    "# Create visualizations\n",
    "plt.figure(figsize=(12, 5))\n",
    "\n",
    "# R-squared comparison\n",
    "plt.subplot(1, 2, 1)\n",
    "sns.barplot(x=['linear_model', 'model_Forest'], y=[ r_squared, r_squared_Forest])\n",
    "plt.title('R-squared Comparison')\n",
    "plt.ylabel('R-squared')\n",
    "\n",
    "# RMSE comparison\n",
    "plt.subplot(1, 2, 2)\n",
    "sns.barplot(x=['linear_model', 'model_Forest'], y=[root_mean, rmse_Forest])\n",
    "plt.title('RMSE Comparison')\n",
    "plt.ylabel('RMSE')\n",
    "\n"
   ]
  },
  {
   "cell_type": "code",
   "execution_count": 33,
   "metadata": {},
   "outputs": [
    {
     "data": {
      "text/plain": [
       "Text(0, 0.5, 'Elapse Time')"
      ]
     },
     "execution_count": 33,
     "metadata": {},
     "output_type": "execute_result"
    },
    {
     "data": {
      "image/png": "[encoded data removed]",
      "text/plain": [
       "<Figure size 432x288 with 1 Axes>"
      ]
     },
     "metadata": {
      "needs_background": "light"
     },
     "output_type": "display_data"
    }
   ],
   "source": [
    "sns.barplot(x=['linear_model', 'model_Forest'], y=[reg_elapse_time, forest_elapse_time])\n",
    "plt.title('Elapse Time Comparison')\n",
    "plt.ylabel('Elapse Time')"
   ]
  }
 ],
 "metadata": {
  "kernelspec": {
   "display_name": "Python 3",
   "language": "python",
   "name": "python3"
  },
  "language_info": {
   "codemirror_mode": {
    "name": "ipython",
    "version": 3
   },
   "file_extension": ".py",
   "mimetype": "text/x-python",
   "name": "python",
   "nbconvert_exporter": "python",
   "pygments_lexer": "ipython3",
   "version": "3.7.3"
  }
 },
 "nbformat": 4,
 "nbformat_minor": 2
}
